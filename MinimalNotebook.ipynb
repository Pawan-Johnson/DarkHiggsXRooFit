{
 "cells": [
  {
   "cell_type": "code",
   "execution_count": 52,
   "id": "3b7298ff",
   "metadata": {},
   "outputs": [
    {
     "name": "stdout",
     "output_type": "stream",
     "text": [
      "6.37.01 v0.0.1-14-g1b8b81e\n"
     ]
    }
   ],
   "source": [
    "import ROOT\n",
    "import json\n",
    "print(ROOT.gROOT.GetVersion(),ROOT.xRooFit.GetVersion())"
   ]
  },
  {
   "cell_type": "code",
   "execution_count": 53,
   "id": "8b03c0e0",
   "metadata": {},
   "outputs": [],
   "source": [
    "n_obs = 1.0\n",
    "n_bkg = 0.5\n",
    "n_sig = 0.5"
   ]
  },
  {
   "cell_type": "code",
   "execution_count": 54,
   "id": "9310cb54",
   "metadata": {},
   "outputs": [
    {
     "data": {
      "text/plain": [
       "xRooNode<RooRealVar> mu"
      ]
     },
     "execution_count": 54,
     "metadata": {},
     "output_type": "execute_result"
    },
    {
     "name": "stdout",
     "output_type": "stream",
     "text": [
      "Info in <xRooNode::Add>: Created pdf RooSimultaneous::simPdf in workspace combined\n",
      "Info in <xRooNode::Vary>: Created channel RooProdPdf::simPdf_SR in model simPdf\n",
      "Info in <xRooNode::Multiply>: Created RooRealSumPdf::simPdf_SR_samples in channel simPdf_SR\n",
      "Info in <xRooNode::Add>: Created SimpleDensity factor RooHistFunc::simPdf_SR_samples_bkg for simPdf_SR_samples\n",
      "Info in <xRooNode::Add>: Created SimpleDensity factor RooHistFunc::simPdf_SR_samples_sig for simPdf_SR_samples\n",
      "[#1] INFO:ObjectHandling -- RooWorkspace::import(combined) importing dataset obsData\n",
      "Info in <xRooNode::Multiply>: Scaled 1 by new norm factor mu\n"
     ]
    }
   ],
   "source": [
    "w = ROOT.xRooNode(\"RooWorkspace\",\"combined\",\"my workspace\")\n",
    "w[\"pdfs/simPdf/SR\"].SetXaxis(1,0,1) \n",
    "w[\"pdfs/simPdf/SR/bkg\"].SetBinContent(1,n_bkg)\n",
    "w[\"pdfs/simPdf/SR/sig\"].SetBinContent(1,n_sig)\n",
    "w[\"pdfs/simPdf/SR\"].SetBinData(1,n_obs)\n",
    "\n",
    "w[\"pdfs/simPdf/SR/sig\"].coefs().Multiply(\"mu\",\"norm\")\n",
    "w.poi().Add(\"mu\")"
   ]
  },
  {
   "cell_type": "code",
   "execution_count": 55,
   "id": "dd00bc40",
   "metadata": {},
   "outputs": [
    {
     "data": {
      "image/png": "[encoded data removed]",
      "text/plain": [
       "<IPython.core.display.Image object>"
      ]
     },
     "metadata": {},
     "output_type": "display_data"
    }
   ],
   "source": [
    "%jsroot off\n",
    "w[\"pdfs/simPdf\"].Draw(\"E\")\n",
    "ROOT.gPad.GetCanvas().Draw()"
   ]
  },
  {
   "cell_type": "code",
   "execution_count": 56,
   "id": "dc5fb204",
   "metadata": {},
   "outputs": [
    {
     "name": "stdout",
     "output_type": "stream",
     "text": [
      "{\n",
      "\"-1\" => 3.500000 +/- 0.200000\n",
      "\"-2\" => 2.300000 +/- 0.120000\n",
      "\"0\" => 5.800000 +/- 0.400000\n",
      "\"1\" => 9.800000 +/- 0.400000\n",
      "\"2\" => 16.200000 +/- 0.600000\n",
      "\"obs\" => 7.200000 +/- 0.600000\n",
      "}\n",
      "\n",
      "Info in <xRooHypoSpace::scan>: No physical range set for mu, setting to [0,inf]\n",
      "[#1] INFO:Eval -- RooRealVar::setRange(mu) new range named 'physical' created with bounds [0,inf]\n",
      "Info in <xRooHypoSpace::scan>: No altVal set for mu, setting to 0\n",
      "Info in <xRooHypoSpace::AddPoint>: Added new point @ mu=0\n",
      "Info in <xRooHypoSpace::AddPoint>: Added new point @ mu=2\n",
      "Info in <xRooHypoSpace::findlimit>: pcls exp0 -- Testing new point @ mu=6.14382 (delta=inf)\n",
      "Info in <xRooHypoSpace::AddPoint>: Added new point @ mu=6.14382\n",
      "Info in <xRooHypoSpace::findlimit>: pcls exp0 -- Testing new point @ mu=5.38302 (delta=-3.75474)\n",
      "Info in <xRooHypoSpace::AddPoint>: Added new point @ mu=5.38302\n",
      "Info in <xRooHypoSpace::findlimit>: pcls exp+1 -- Testing new point @ mu=11.0174 (delta=inf)\n",
      "Info in <xRooHypoSpace::AddPoint>: Added new point @ mu=11.0174\n",
      "Info in <xRooHypoSpace::findlimit>: pcls exp+1 -- Testing new point @ mu=9.41844 (delta=-3.63442)\n",
      "Info in <xRooHypoSpace::AddPoint>: Added new point @ mu=9.41844\n",
      "Info in <xRooHypoSpace::findlimit>: pcls exp+1 -- Testing new point @ mu=9.93413 (delta=1.2023)\n",
      "Info in <xRooHypoSpace::AddPoint>: Added new point @ mu=9.93413\n",
      "Info in <xRooHypoSpace::findlimit>: pcls exp+2 -- Testing new point @ mu=18.4532 (delta=inf)\n",
      "Info in <xRooHypoSpace::AddPoint>: Added new point @ mu=18.4532\n",
      "Info in <xRooHypoSpace::findlimit>: pcls exp+2 -- Testing new point @ mu=15.5673 (delta=-5.04988)\n",
      "Info in <xRooHypoSpace::AddPoint>: Added new point @ mu=15.5673\n",
      "Info in <xRooHypoSpace::findlimit>: pcls exp+2 -- Testing new point @ mu=16.4201 (delta=2.25645)\n",
      "Info in <xRooHypoSpace::AddPoint>: Added new point @ mu=16.4201\n",
      "Info in <xRooHypoSpace::findlimit>: pcls exp-1 -- Testing new point @ mu=3.73537 (delta=1.82869)\n",
      "Info in <xRooHypoSpace::AddPoint>: Added new point @ mu=3.73537\n",
      "Info in <xRooHypoSpace::findlimit>: pcls exp-1 -- Testing new point @ mu=3.35642 (delta=-1.50546)\n",
      "Info in <xRooHypoSpace::AddPoint>: Added new point @ mu=3.35642\n",
      "Info in <xRooHypoSpace::findlimit>: pcls exp-2 -- Testing new point @ mu=2.41679 (delta=1.04288)\n",
      "Info in <xRooHypoSpace::AddPoint>: Added new point @ mu=2.41679\n",
      "Info in <xRooHypoSpace::findlimit>: pcls exp-2 -- Testing new point @ mu=2.27193 (delta=-0.301808)\n",
      "Info in <xRooHypoSpace::AddPoint>: Added new point @ mu=2.27193\n",
      "Info in <xRooHypoSpace::findlimit>: pcls obs -- Testing new point @ mu=8.87997 (delta=inf)\n",
      "Info in <xRooHypoSpace::AddPoint>: Added new point @ mu=8.87997\n",
      "Info in <xRooHypoSpace::findlimit>: pcls obs -- Testing new point @ mu=6.62227 (delta=-5.13015)\n",
      "Info in <xRooHypoSpace::AddPoint>: Added new point @ mu=6.62227\n",
      "Info in <xRooHypoSpace::findlimit>: pcls obs -- Testing new point @ mu=7.35674 (delta=1.6906)\n",
      "Info in <xRooHypoSpace::AddPoint>: Added new point @ mu=7.35674\n"
     ]
    },
    {
     "data": {
      "image/png": "[encoded data removed]",
      "text/plain": [
       "<IPython.core.display.Image object>"
      ]
     },
     "metadata": {},
     "output_type": "display_data"
    }
   ],
   "source": [
    "hs = w[\"pdfs/simPdf\"].nll(\"obsData\").hypoSpace(\"mu\")\n",
    "hs.scan(\"cls\")\n",
    "print(hs.limits())\n",
    "hs.Draw()\n",
    "ROOT.gPad.GetCanvas().Draw()"
   ]
  },
  {
   "cell_type": "code",
   "execution_count": 57,
   "id": "3194b9c7",
   "metadata": {},
   "outputs": [
    {
     "name": "stdout",
     "output_type": "stream",
     "text": [
      "{\n",
      "\"-1\" => nan +/- 0.000000\n",
      "\"-2\" => nan +/- 0.000000\n",
      "\"0\" => nan +/- 0.000000\n",
      "\"1\" => nan +/- 0.000000\n",
      "\"2\" => nan +/- 0.000000\n",
      "\"obs\" => nan +/- 0.000000\n",
      "}\n",
      "\n",
      "Info in <xRooHypoSpace::scan>: No altVal set for mu, setting to 0\n",
      "[#1] INFO:Eval -- RooRealVar::setRange(mu) new range named 'scan' created with bounds [1,1]\n",
      "Info in <xRooHypoSpace::scan>: Using mu scan range: 1 - 1\n",
      "Info in <xRooHypoSpace::AddPoint>: Added new point @ mu=1\n",
      "Info in <xRooHypoSpace::scan>: Using mu scan range: 1 - 1\n",
      "Error in <xRooHypoSpace::findlimit>: Problem evaluating pcls exp0 @ mu=1\n",
      "Error in <xRooHypoSpace::findlimit>: Problem evaluating pcls exp+1 @ mu=1\n",
      "Error in <xRooHypoSpace::findlimit>: Problem evaluating pcls exp+2 @ mu=1\n",
      "Error in <xRooHypoSpace::findlimit>: Problem evaluating pcls exp-1 @ mu=1\n",
      "Error in <xRooHypoSpace::findlimit>: Problem evaluating pcls exp-2 @ mu=1\n",
      "Error in <xRooHypoSpace::findlimit>: Problem evaluating pcls exp @ mu=1\n",
      "Error in <xRooHypoSpace::findlimit>: Problem evaluating pcls exp @ mu=1\n",
      "Error in <xRooHypoSpace::findlimit>: Problem evaluating pcls exp @ mu=1\n",
      "Error in <xRooHypoSpace::findlimit>: Problem evaluating pcls exp @ mu=1\n",
      "Error in <xRooHypoSpace::findlimit>: Problem evaluating pcls exp @ mu=1\n",
      "Error in <xRooHypoSpace::findlimit>: Problem evaluating pcls exp @ mu=1\n",
      "Error in <xRooHypoSpace::findlimit>: Problem evaluating pcls exp @ mu=1\n",
      "Error in <xRooHypoSpace::findlimit>: Problem evaluating pcls exp @ mu=1\n",
      "Error in <xRooHypoSpace::findlimit>: Problem evaluating pcls exp @ mu=1\n",
      "Error in <xRooHypoSpace::findlimit>: Problem evaluating pcls exp @ mu=1\n",
      "Error in <xRooHypoSpace::findlimit>: Problem evaluating pcls exp @ mu=1\n",
      "Error in <xRooHypoSpace::findlimit>: Problem evaluating pcls exp @ mu=1\n",
      "Error in <xRooHypoSpace::findlimit>: Problem evaluating pcls exp @ mu=1\n",
      "Error in <xRooHypoSpace::findlimit>: Problem evaluating pcls exp @ mu=1\n",
      "Error in <xRooHypoSpace::findlimit>: Problem evaluating pcls exp @ mu=1\n",
      "Error in <xRooHypoSpace::findlimit>: Problem evaluating pcls exp @ mu=1\n",
      "Error in <xRooHypoSpace::findlimit>: Problem evaluating pcls exp @ mu=1\n",
      "Error in <xRooHypoSpace::findlimit>: Problem evaluating pcls exp @ mu=1\n",
      "Error in <xRooHypoSpace::findlimit>: Problem evaluating pcls exp @ mu=1\n",
      "Error in <xRooHypoSpace::findlimit>: Problem evaluating pcls exp @ mu=1\n",
      "Error in <xRooHypoSpace::findlimit>: Problem evaluating pcls exp @ mu=1\n",
      "Error in <xRooHypoSpace::findlimit>: Problem evaluating pcls obs @ mu=1\n"
     ]
    },
    {
     "data": {
      "image/png": "[encoded data removed]",
      "text/plain": [
       "<IPython.core.display.Image object>"
      ]
     },
     "metadata": {},
     "output_type": "display_data"
    }
   ],
   "source": [
    "# Try to get cls limit for mu = 1\n",
    "hs = w[\"pdfs/simPdf\"].nll(\"obsData\").hypoSpace(\"mu\")\n",
    "hs.scan(\"cls\", 1, 1, 1)\n",
    "print(hs.limits())\n",
    "hs.Draw()\n",
    "ROOT.gPad.GetCanvas().Draw()\n",
    "# Fit Fails"
   ]
  },
  {
   "cell_type": "code",
   "execution_count": null,
   "id": "6b27b5ef",
   "metadata": {},
   "outputs": [],
   "source": []
  },
  {
   "cell_type": "code",
   "execution_count": 51,
   "id": "845a3dd4",
   "metadata": {},
   "outputs": [
    {
     "name": "stdout",
     "output_type": "stream",
     "text": [
      "Info in <xRooHypoSpace::scan>: Using default precision of 10% for auto-scan\n",
      "Info in <xRooHypoSpace::scan>: No altVal set for mu, setting to 0\n",
      "Info in <xRooHypoSpace::scan>: Using mu scan range: 1 - 1\n",
      "Info in <xRooHypoSpace::AddPoint>: Added new point @ mu=1\n",
      "[#0] ERROR:DataHandling -- Error in RooAbsReal::setData(): only resetting with same-structured data is supported.\n",
      "[#0] ERROR:DataHandling -- Error in RooAbsReal::setData(): only resetting with same-structured data is supported.\n",
      "[#0] ERROR:DataHandling -- Error in RooAbsReal::setData(): only resetting with same-structured data is supported.\n",
      "[#0] ERROR:DataHandling -- Error in RooAbsReal::setData(): only resetting with same-structured data is supported.\n",
      "Error in <xRooHypoSpace::findlimit>: Problem evaluating pcls exp0 @ mu=1\n",
      "Error in <xRooHypoSpace::findlimit>: Problem evaluating pcls exp+1 @ mu=1\n",
      "Error in <xRooHypoSpace::findlimit>: Problem evaluating pcls exp+2 @ mu=1\n",
      "Error in <xRooHypoSpace::findlimit>: Problem evaluating pcls exp-1 @ mu=1\n",
      "Error in <xRooHypoSpace::findlimit>: Problem evaluating pcls exp-2 @ mu=1\n",
      "Error in <xRooHypoSpace::findlimit>: Problem evaluating pcls exp @ mu=1\n",
      "Error in <xRooHypoSpace::findlimit>: Problem evaluating pcls exp @ mu=1\n",
      "Error in <xRooHypoSpace::findlimit>: Problem evaluating pcls exp @ mu=1\n",
      "Error in <xRooHypoSpace::findlimit>: Problem evaluating pcls exp @ mu=1\n",
      "Error in <xRooHypoSpace::findlimit>: Problem evaluating pcls exp @ mu=1\n",
      "Error in <xRooHypoSpace::findlimit>: Problem evaluating pcls exp @ mu=1\n",
      "Error in <xRooHypoSpace::findlimit>: Problem evaluating pcls exp @ mu=1\n",
      "Error in <xRooHypoSpace::findlimit>: Problem evaluating pcls exp @ mu=1\n",
      "Error in <xRooHypoSpace::findlimit>: Problem evaluating pcls exp @ mu=1\n",
      "Error in <xRooHypoSpace::findlimit>: Problem evaluating pcls exp @ mu=1\n",
      "Error in <xRooHypoSpace::findlimit>: Problem evaluating pcls exp @ mu=1\n",
      "Error in <xRooHypoSpace::findlimit>: Problem evaluating pcls exp @ mu=1\n",
      "Error in <xRooHypoSpace::findlimit>: Problem evaluating pcls exp @ mu=1\n",
      "Error in <xRooHypoSpace::findlimit>: Problem evaluating pcls exp @ mu=1\n",
      "Error in <xRooHypoSpace::findlimit>: Problem evaluating pcls exp @ mu=1\n",
      "Error in <xRooHypoSpace::findlimit>: Problem evaluating pcls exp @ mu=1\n",
      "Error in <xRooHypoSpace::findlimit>: Problem evaluating pcls exp @ mu=1\n",
      "Error in <xRooHypoSpace::findlimit>: Problem evaluating pcls exp @ mu=1\n",
      "Error in <xRooHypoSpace::findlimit>: Problem evaluating pcls exp @ mu=1\n",
      "Error in <xRooHypoSpace::findlimit>: Problem evaluating pcls exp @ mu=1\n",
      "Error in <xRooHypoSpace::findlimit>: Problem evaluating pcls obs @ mu=1\n"
     ]
    }
   ],
   "source": [
    "# Set mu to be constant 1\n",
    "w.poi()[0].setVal(1) \n",
    "w.poi()[0].setConstant(True) \n",
    "\n",
    "fr = w[\"pdfs/simPdf/SR\"].nll(\"obsData\").hypoSpace().limits()\n"
   ]
  },
  {
   "cell_type": "code",
   "execution_count": null,
   "id": "33befe36",
   "metadata": {},
   "outputs": [],
   "source": []
  },
  {
   "cell_type": "code",
   "execution_count": null,
   "id": "90ad146a",
   "metadata": {},
   "outputs": [],
   "source": []
  }
 ],
 "metadata": {
  "kernelspec": {
   "display_name": "hep_dev",
   "language": "python",
   "name": "python3"
  },
  "language_info": {
   "codemirror_mode": {
    "name": "ipython",
    "version": 3
   },
   "file_extension": ".py",
   "mimetype": "text/x-python",
   "name": "python",
   "nbconvert_exporter": "python",
   "pygments_lexer": "ipython3",
   "version": "3.13.3"
  }
 },
 "nbformat": 4,
 "nbformat_minor": 5
}
