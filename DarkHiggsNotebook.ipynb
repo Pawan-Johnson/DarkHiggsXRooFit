{
 "cells": [
  {
   "cell_type": "markdown",
   "id": "b36814b4",
   "metadata": {},
   "source": [
    "# Statistical Analysis for Dark Higgs\n",
    "\n",
    "- The idea is to convert the below bar chart to an p-value and then make an exclusion contour"
   ]
  },
  {
   "cell_type": "markdown",
   "id": "c82fff1c",
   "metadata": {},
   "source": [
    "![DarkHiggsYeilds](assets/DarkHiggsYields.png)"
   ]
  },
  {
   "cell_type": "code",
   "execution_count": 1,
   "id": "798097d6",
   "metadata": {},
   "outputs": [
    {
     "name": "stderr",
     "output_type": "stream",
     "text": [
      "Warning in cling::IncrementalParser::CheckABICompatibility():\n",
      "  Possible C++ standard library mismatch, compiled with __GLIBCXX__ '20250425'\n",
      "  Extraction of runtime standard library version was: '20250521'\n"
     ]
    },
    {
     "name": "stdout",
     "output_type": "stream",
     "text": [
      "\u001b[1mxRooFit -- Create/Explore/Modify Workspaces -- Development ongoing\u001b[0m \n",
      "                xRooFit : http://gitlab.cern.ch/will/xroofit\n",
      "                Version: v0.0.1-14-g1b8b81e [2025-06-09 15:42:36 +0100]\n",
      "6.37.01 v0.0.1-14-g1b8b81e\n"
     ]
    }
   ],
   "source": [
    "import ROOT\n",
    "import json\n",
    "print(ROOT.gROOT.GetVersion(),ROOT.xRooFit.GetVersion())"
   ]
  },
  {
   "cell_type": "code",
   "execution_count": 2,
   "id": "b10cac54",
   "metadata": {},
   "outputs": [
    {
     "name": "stdout",
     "output_type": "stream",
     "text": [
      "{'mass': 0.23, 'coupling': 0.0007, 'crosssection': 2.246042502785529e-05, 'sumw': 20000, 'nevents': 1.4212844655501689, 'nevents_err': 0.01741451134044757}\n"
     ]
    }
   ],
   "source": [
    "signal_yields = json.load(open(\"dark_higgs_yield.json\"))\n",
    "\n",
    "bkg_yield = {\n",
    "    \"nevents\": 0.0304,\n",
    "    \"nevents_err\": 0.004387862045841156\n",
    "}\n",
    "\n",
    "data_obs = {\n",
    "    \"nevents\": 0.0,\n",
    "    \"nevents_err\": 0.0\n",
    "}\n",
    "\n",
    "print(signal_yields[\"dh_113900\"])"
   ]
  },
  {
   "cell_type": "code",
   "execution_count": 3,
   "id": "e701d191",
   "metadata": {},
   "outputs": [],
   "source": [
    "def make_histogram(name, yields):\n",
    "    nevents = yields[\"nevents\"]\n",
    "    nevents_err = yields[\"nevents_err\"]\n",
    "    hist = ROOT.TH1D(name, name, 1, 0, 1)\n",
    "    hist.SetBinContent(1, nevents)\n",
    "    hist.SetBinError(1, nevents_err)\n",
    "    hist.SetXTitle(\"SR\")\n",
    "    hist.SetYTitle(\"Events\")\n",
    "    return hist"
   ]
  },
  {
   "cell_type": "code",
   "execution_count": 4,
   "id": "5c5b3eff",
   "metadata": {},
   "outputs": [
    {
     "name": "stdout",
     "output_type": "stream",
     "text": [
      "[#1] INFO:ObjectHandling -- RooWorkspace::import(combined) importing dataset obsData\n"
     ]
    },
    {
     "name": "stderr",
     "output_type": "stream",
     "text": [
      "Info in <xRooNode::Add>: Created pdf RooSimultaneous::simPdf in workspace combined\n",
      "Info in <xRooNode::Vary>: Created channel RooProdPdf::simPdf_SR in model simPdf\n",
      "Info in <xRooNode::Multiply>: Created RooRealSumPdf::simPdf_SR_samples in channel simPdf_SR\n",
      "Info in <xRooNode::Multiply>: Created Shape factor simPdf_SR_samples_bkg_statFactor in prod_simPdf_SR_samples_bkg\n",
      "Info in <xRooNode::Constrain>: Added poisson constraint pdf RooPoisson::pois_stat_simPdf_SR_samples_bin1 (tau=48.64) for stat_simPdf_SR_samples_bin1\n",
      "Info in <xRooNode::Add>: Created SimpleDensity factor RooHistFunc::simPdf_SR_samples_bkg for simPdf_SR_samples\n",
      "Info in <xRooNode::Multiply>: Created Shape factor simPdf_SR_samples_dh_113900_statFactor in prod_simPdf_SR_samples_dh_113900\n",
      "Info in <xRooNode::Add>: Created SimpleDensity factor RooHistFunc::simPdf_SR_samples_dh_113900 for simPdf_SR_samples\n",
      "Info in <xRooNode::Multiply>: Created Shape factor simPdf_SR_samples_dh_113901_statFactor in prod_simPdf_SR_samples_dh_113901\n",
      "Info in <xRooNode::Add>: Created SimpleDensity factor RooHistFunc::simPdf_SR_samples_dh_113901 for simPdf_SR_samples\n",
      "Info in <xRooNode::Multiply>: Created Shape factor simPdf_SR_samples_dh_113902_statFactor in prod_simPdf_SR_samples_dh_113902\n",
      "Info in <xRooNode::Add>: Created SimpleDensity factor RooHistFunc::simPdf_SR_samples_dh_113902 for simPdf_SR_samples\n",
      "Info in <xRooNode::Multiply>: Created Shape factor simPdf_SR_samples_dh_113903_statFactor in prod_simPdf_SR_samples_dh_113903\n",
      "Info in <xRooNode::Add>: Created SimpleDensity factor RooHistFunc::simPdf_SR_samples_dh_113903 for simPdf_SR_samples\n",
      "Info in <xRooNode::Multiply>: Created Shape factor simPdf_SR_samples_dh_113904_statFactor in prod_simPdf_SR_samples_dh_113904\n",
      "Info in <xRooNode::Add>: Created SimpleDensity factor RooHistFunc::simPdf_SR_samples_dh_113904 for simPdf_SR_samples\n",
      "Info in <xRooNode::Multiply>: Created Shape factor simPdf_SR_samples_dh_113905_statFactor in prod_simPdf_SR_samples_dh_113905\n",
      "Info in <xRooNode::Add>: Created SimpleDensity factor RooHistFunc::simPdf_SR_samples_dh_113905 for simPdf_SR_samples\n",
      "Info in <xRooNode::Multiply>: Created Shape factor simPdf_SR_samples_dh_113906_statFactor in prod_simPdf_SR_samples_dh_113906\n",
      "Info in <xRooNode::Add>: Created SimpleDensity factor RooHistFunc::simPdf_SR_samples_dh_113906 for simPdf_SR_samples\n",
      "Info in <xRooNode::Multiply>: Created Shape factor simPdf_SR_samples_dh_113907_statFactor in prod_simPdf_SR_samples_dh_113907\n",
      "Info in <xRooNode::Add>: Created SimpleDensity factor RooHistFunc::simPdf_SR_samples_dh_113907 for simPdf_SR_samples\n",
      "Info in <xRooNode::Multiply>: Created Shape factor simPdf_SR_samples_dh_113908_statFactor in prod_simPdf_SR_samples_dh_113908\n",
      "Info in <xRooNode::Add>: Created SimpleDensity factor RooHistFunc::simPdf_SR_samples_dh_113908 for simPdf_SR_samples\n",
      "Info in <xRooNode::Multiply>: Created Shape factor simPdf_SR_samples_dh_113909_statFactor in prod_simPdf_SR_samples_dh_113909\n",
      "Info in <xRooNode::Add>: Created SimpleDensity factor RooHistFunc::simPdf_SR_samples_dh_113909 for simPdf_SR_samples\n",
      "Info in <xRooNode::Multiply>: Created Shape factor simPdf_SR_samples_dh_113910_statFactor in prod_simPdf_SR_samples_dh_113910\n",
      "Info in <xRooNode::Add>: Created SimpleDensity factor RooHistFunc::simPdf_SR_samples_dh_113910 for simPdf_SR_samples\n",
      "Info in <xRooNode::Multiply>: Created Shape factor simPdf_SR_samples_dh_113911_statFactor in prod_simPdf_SR_samples_dh_113911\n",
      "Info in <xRooNode::Add>: Created SimpleDensity factor RooHistFunc::simPdf_SR_samples_dh_113911 for simPdf_SR_samples\n",
      "Info in <xRooNode::Multiply>: Created Shape factor simPdf_SR_samples_dh_113912_statFactor in prod_simPdf_SR_samples_dh_113912\n",
      "Info in <xRooNode::Add>: Created SimpleDensity factor RooHistFunc::simPdf_SR_samples_dh_113912 for simPdf_SR_samples\n",
      "Info in <xRooNode::Multiply>: Created Shape factor simPdf_SR_samples_dh_113913_statFactor in prod_simPdf_SR_samples_dh_113913\n",
      "Info in <xRooNode::Add>: Created SimpleDensity factor RooHistFunc::simPdf_SR_samples_dh_113913 for simPdf_SR_samples\n",
      "Info in <xRooNode::Multiply>: Created Shape factor simPdf_SR_samples_dh_113914_statFactor in prod_simPdf_SR_samples_dh_113914\n",
      "Info in <xRooNode::Add>: Created SimpleDensity factor RooHistFunc::simPdf_SR_samples_dh_113914 for simPdf_SR_samples\n",
      "Info in <xRooNode::Multiply>: Created Shape factor simPdf_SR_samples_dh_113915_statFactor in prod_simPdf_SR_samples_dh_113915\n",
      "Info in <xRooNode::Add>: Created SimpleDensity factor RooHistFunc::simPdf_SR_samples_dh_113915 for simPdf_SR_samples\n",
      "Info in <xRooNode::Multiply>: Created Shape factor simPdf_SR_samples_dh_113916_statFactor in prod_simPdf_SR_samples_dh_113916\n",
      "Info in <xRooNode::Add>: Created SimpleDensity factor RooHistFunc::simPdf_SR_samples_dh_113916 for simPdf_SR_samples\n",
      "Info in <xRooNode::Multiply>: Created Shape factor simPdf_SR_samples_dh_113917_statFactor in prod_simPdf_SR_samples_dh_113917\n",
      "Info in <xRooNode::Add>: Created SimpleDensity factor RooHistFunc::simPdf_SR_samples_dh_113917 for simPdf_SR_samples\n"
     ]
    }
   ],
   "source": [
    "# Make a workspace\n",
    "w = ROOT.xRooNode(\"RooWorkspace\", \"combined\", \"my workspace\")\n",
    "\n",
    "h_bkg = make_histogram(\"bkg\", bkg_yield)\n",
    "h_data = make_histogram(\"obsData\", data_obs)\n",
    "h_sigs = {}\n",
    "\n",
    "w[\"pdfs/simPdf/SR\"].Add(h_bkg)\n",
    "w[\"pdfs/simPdf/SR\"].datasets().Add(h_data)\n",
    "for sig_name, sig_yield in signal_yields.items():\n",
    "    h_sig = make_histogram(sig_name, sig_yield)\n",
    "    h_sigs[sig_name] = h_sig\n",
    "    w[\"pdfs/simPdf/SR\"].Add(h_sigs[sig_name])"
   ]
  },
  {
   "cell_type": "code",
   "execution_count": 5,
   "id": "bbfaff48",
   "metadata": {},
   "outputs": [
    {
     "name": "stdout",
     "output_type": "stream",
     "text": [
      "combined/simPdf/channelCat=SR: RooProdPdf::simPdf_SR\n",
      "0) samples : RooRealSumPdf::simPdf_SR_samples\n",
      " 0) bkg : RooProduct::prod_simPdf_SR_samples_bkg\n",
      "  0) bkg : RooHistFunc::simPdf_SR_samples_bkg [SimpleDensity]\n",
      "   0) xaxis : RooRealVar::xaxis = 0.5  L(0 - 1) B(1) \n",
      "  1) statFactor : ParamHistFunc::simPdf_SR_samples_bkg_statFactor [Shape]\n",
      "   0) stat_simPdf_SR_samples_bin1 : RooRealVar::stat_simPdf_SR_samples_bin1 = 1 +/- 0.0034946  L(0.982527 - 1.01747) \n",
      " 1) dh_113900 : RooProduct::prod_simPdf_SR_samples_dh_113900\n",
      "  0) dh_113900 : RooHistFunc::simPdf_SR_samples_dh_113900 [SimpleDensity]\n",
      "   0) xaxis : RooRealVar::xaxis = 0.5  L(0 - 1) B(1) \n",
      "  1) statFactor : ParamHistFunc::simPdf_SR_samples_dh_113900_statFactor [Shape]\n",
      "   0) stat_simPdf_SR_samples_bin1 : RooRealVar::stat_simPdf_SR_samples_bin1 = 1 +/- 0.0034946  L(0.982527 - 1.01747) \n",
      " 2) dh_113901 : RooProduct::prod_simPdf_SR_samples_dh_113901\n",
      "  0) dh_113901 : RooHistFunc::simPdf_SR_samples_dh_113901 [SimpleDensity]\n",
      "   0) xaxis : RooRealVar::xaxis = 0.5  L(0 - 1) B(1) \n",
      "  1) statFactor : ParamHistFunc::simPdf_SR_samples_dh_113901_statFactor [Shape]\n",
      "   0) stat_simPdf_SR_samples_bin1 : RooRealVar::stat_simPdf_SR_samples_bin1 = 1 +/- 0.0034946  L(0.982527 - 1.01747) \n",
      " 3) dh_113902 : RooProduct::prod_simPdf_SR_samples_dh_113902\n",
      "  0) dh_113902 : RooHistFunc::simPdf_SR_samples_dh_113902 [SimpleDensity]\n",
      "   0) xaxis : RooRealVar::xaxis = 0.5  L(0 - 1) B(1) \n",
      "  1) statFactor : ParamHistFunc::simPdf_SR_samples_dh_113902_statFactor [Shape]\n",
      "   0) stat_simPdf_SR_samples_bin1 : RooRealVar::stat_simPdf_SR_samples_bin1 = 1 +/- 0.0034946  L(0.982527 - 1.01747) \n",
      " 4) dh_113903 : RooProduct::prod_simPdf_SR_samples_dh_113903\n",
      "  0) dh_113903 : RooHistFunc::simPdf_SR_samples_dh_113903 [SimpleDensity]\n",
      "   0) xaxis : RooRealVar::xaxis = 0.5  L(0 - 1) B(1) \n",
      "  1) statFactor : ParamHistFunc::simPdf_SR_samples_dh_113903_statFactor [Shape]\n",
      "   0) stat_simPdf_SR_samples_bin1 : RooRealVar::stat_simPdf_SR_samples_bin1 = 1 +/- 0.0034946  L(0.982527 - 1.01747) \n",
      " 5) dh_113904 : RooProduct::prod_simPdf_SR_samples_dh_113904\n",
      "  0) dh_113904 : RooHistFunc::simPdf_SR_samples_dh_113904 [SimpleDensity]\n",
      "   0) xaxis : RooRealVar::xaxis = 0.5  L(0 - 1) B(1) \n",
      "  1) statFactor : ParamHistFunc::simPdf_SR_samples_dh_113904_statFactor [Shape]\n",
      "   0) stat_simPdf_SR_samples_bin1 : RooRealVar::stat_simPdf_SR_samples_bin1 = 1 +/- 0.0034946  L(0.982527 - 1.01747) \n",
      " 6) dh_113905 : RooProduct::prod_simPdf_SR_samples_dh_113905\n",
      "  0) dh_113905 : RooHistFunc::simPdf_SR_samples_dh_113905 [SimpleDensity]\n",
      "   0) xaxis : RooRealVar::xaxis = 0.5  L(0 - 1) B(1) \n",
      "  1) statFactor : ParamHistFunc::simPdf_SR_samples_dh_113905_statFactor [Shape]\n",
      "   0) stat_simPdf_SR_samples_bin1 : RooRealVar::stat_simPdf_SR_samples_bin1 = 1 +/- 0.0034946  L(0.982527 - 1.01747) \n",
      " 7) dh_113906 : RooProduct::prod_simPdf_SR_samples_dh_113906\n",
      "  0) dh_113906 : RooHistFunc::simPdf_SR_samples_dh_113906 [SimpleDensity]\n",
      "   0) xaxis : RooRealVar::xaxis = 0.5  L(0 - 1) B(1) \n",
      "  1) statFactor : ParamHistFunc::simPdf_SR_samples_dh_113906_statFactor [Shape]\n",
      "   0) stat_simPdf_SR_samples_bin1 : RooRealVar::stat_simPdf_SR_samples_bin1 = 1 +/- 0.0034946  L(0.982527 - 1.01747) \n",
      " 8) dh_113907 : RooProduct::prod_simPdf_SR_samples_dh_113907\n",
      "  0) dh_113907 : RooHistFunc::simPdf_SR_samples_dh_113907 [SimpleDensity]\n",
      "   0) xaxis : RooRealVar::xaxis = 0.5  L(0 - 1) B(1) \n",
      "  1) statFactor : ParamHistFunc::simPdf_SR_samples_dh_113907_statFactor [Shape]\n",
      "   0) stat_simPdf_SR_samples_bin1 : RooRealVar::stat_simPdf_SR_samples_bin1 = 1 +/- 0.0034946  L(0.982527 - 1.01747) \n",
      " 9) dh_113908 : RooProduct::prod_simPdf_SR_samples_dh_113908\n",
      "  0) dh_113908 : RooHistFunc::simPdf_SR_samples_dh_113908 [SimpleDensity]\n",
      "   0) xaxis : RooRealVar::xaxis = 0.5  L(0 - 1) B(1) \n",
      "  1) statFactor : ParamHistFunc::simPdf_SR_samples_dh_113908_statFactor [Shape]\n",
      "   0) stat_simPdf_SR_samples_bin1 : RooRealVar::stat_simPdf_SR_samples_bin1 = 1 +/- 0.0034946  L(0.982527 - 1.01747) \n",
      " 10) dh_113909 : RooProduct::prod_simPdf_SR_samples_dh_113909\n",
      "  0) dh_113909 : RooHistFunc::simPdf_SR_samples_dh_113909 [SimpleDensity]\n",
      "   0) xaxis : RooRealVar::xaxis = 0.5  L(0 - 1) B(1) \n",
      "  1) statFactor : ParamHistFunc::simPdf_SR_samples_dh_113909_statFactor [Shape]\n",
      "   0) stat_simPdf_SR_samples_bin1 : RooRealVar::stat_simPdf_SR_samples_bin1 = 1 +/- 0.0034946  L(0.982527 - 1.01747) \n",
      " 11) dh_113910 : RooProduct::prod_simPdf_SR_samples_dh_113910\n",
      "  0) dh_113910 : RooHistFunc::simPdf_SR_samples_dh_113910 [SimpleDensity]\n",
      "   0) xaxis : RooRealVar::xaxis = 0.5  L(0 - 1) B(1) \n",
      "  1) statFactor : ParamHistFunc::simPdf_SR_samples_dh_113910_statFactor [Shape]\n",
      "   0) stat_simPdf_SR_samples_bin1 : RooRealVar::stat_simPdf_SR_samples_bin1 = 1 +/- 0.0034946  L(0.982527 - 1.01747) \n",
      " 12) dh_113911 : RooProduct::prod_simPdf_SR_samples_dh_113911\n",
      "  0) dh_113911 : RooHistFunc::simPdf_SR_samples_dh_113911 [SimpleDensity]\n",
      "   0) xaxis : RooRealVar::xaxis = 0.5  L(0 - 1) B(1) \n",
      "  1) statFactor : ParamHistFunc::simPdf_SR_samples_dh_113911_statFactor [Shape]\n",
      "   0) stat_simPdf_SR_samples_bin1 : RooRealVar::stat_simPdf_SR_samples_bin1 = 1 +/- 0.0034946  L(0.982527 - 1.01747) \n",
      " 13) dh_113912 : RooProduct::prod_simPdf_SR_samples_dh_113912\n",
      "  0) dh_113912 : RooHistFunc::simPdf_SR_samples_dh_113912 [SimpleDensity]\n",
      "   0) xaxis : RooRealVar::xaxis = 0.5  L(0 - 1) B(1) \n",
      "  1) statFactor : ParamHistFunc::simPdf_SR_samples_dh_113912_statFactor [Shape]\n",
      "   0) stat_simPdf_SR_samples_bin1 : RooRealVar::stat_simPdf_SR_samples_bin1 = 1 +/- 0.0034946  L(0.982527 - 1.01747) \n",
      " 14) dh_113913 : RooProduct::prod_simPdf_SR_samples_dh_113913\n",
      "  0) dh_113913 : RooHistFunc::simPdf_SR_samples_dh_113913 [SimpleDensity]\n",
      "   0) xaxis : RooRealVar::xaxis = 0.5  L(0 - 1) B(1) \n",
      "  1) statFactor : ParamHistFunc::simPdf_SR_samples_dh_113913_statFactor [Shape]\n",
      "   0) stat_simPdf_SR_samples_bin1 : RooRealVar::stat_simPdf_SR_samples_bin1 = 1 +/- 0.0034946  L(0.982527 - 1.01747) \n",
      " 15) dh_113914 : RooProduct::prod_simPdf_SR_samples_dh_113914\n",
      "  0) dh_113914 : RooHistFunc::simPdf_SR_samples_dh_113914 [SimpleDensity]\n",
      "   0) xaxis : RooRealVar::xaxis = 0.5  L(0 - 1) B(1) \n",
      "  1) statFactor : ParamHistFunc::simPdf_SR_samples_dh_113914_statFactor [Shape]\n",
      "   0) stat_simPdf_SR_samples_bin1 : RooRealVar::stat_simPdf_SR_samples_bin1 = 1 +/- 0.0034946  L(0.982527 - 1.01747) \n",
      " 16) dh_113915 : RooProduct::prod_simPdf_SR_samples_dh_113915\n",
      "  0) dh_113915 : RooHistFunc::simPdf_SR_samples_dh_113915 [SimpleDensity]\n",
      "   0) xaxis : RooRealVar::xaxis = 0.5  L(0 - 1) B(1) \n",
      "  1) statFactor : ParamHistFunc::simPdf_SR_samples_dh_113915_statFactor [Shape]\n",
      "   0) stat_simPdf_SR_samples_bin1 : RooRealVar::stat_simPdf_SR_samples_bin1 = 1 +/- 0.0034946  L(0.982527 - 1.01747) \n",
      " 17) dh_113916 : RooProduct::prod_simPdf_SR_samples_dh_113916\n",
      "  0) dh_113916 : RooHistFunc::simPdf_SR_samples_dh_113916 [SimpleDensity]\n",
      "   0) xaxis : RooRealVar::xaxis = 0.5  L(0 - 1) B(1) \n",
      "  1) statFactor : ParamHistFunc::simPdf_SR_samples_dh_113916_statFactor [Shape]\n",
      "   0) stat_simPdf_SR_samples_bin1 : RooRealVar::stat_simPdf_SR_samples_bin1 = 1 +/- 0.0034946  L(0.982527 - 1.01747) \n",
      " 18) dh_113917 : RooProduct::prod_simPdf_SR_samples_dh_113917\n",
      "  0) dh_113917 : RooHistFunc::simPdf_SR_samples_dh_113917 [SimpleDensity]\n",
      "   0) xaxis : RooRealVar::xaxis = 0.5  L(0 - 1) B(1) \n",
      "  1) statFactor : ParamHistFunc::simPdf_SR_samples_dh_113917_statFactor [Shape]\n",
      "   0) stat_simPdf_SR_samples_bin1 : RooRealVar::stat_simPdf_SR_samples_bin1 = 1 +/- 0.0034946  L(0.982527 - 1.01747) \n",
      "1) pois_stat_simPdf_SR_samples_bin1 : RooPoisson::pois_stat_simPdf_SR_samples_bin1\n",
      " 0) .x : RooRealVar::globs_stat_simPdf_SR_samples_bin1 = 81885.3 C  L(80454.5 - 83316.1) \n",
      " 1) .mean : RooProduct::mean_stat_simPdf_SR_samples_bin1\n",
      "  0) stat_simPdf_SR_samples_bin1 : RooRealVar::stat_simPdf_SR_samples_bin1 = 1 +/- 0.0034946  L(0.982527 - 1.01747) \n",
      "  1) tau_stat_simPdf_SR_samples_bin1 : RooConstVar::tau_stat_simPdf_SR_samples_bin1 = 81885.3\n"
     ]
    }
   ],
   "source": [
    "w[\"pdfs/simPdf/SR\"].Print(\"depth=3\")"
   ]
  },
  {
   "cell_type": "code",
   "execution_count": 6,
   "id": "dd362fe0",
   "metadata": {},
   "outputs": [
    {
     "ename": "runtime_error",
     "evalue": "int xRooNLLVar::xRooHypoSpace::scan(const char* type = \"cls\", const vector<double>& nSigmas = {0, 1, 2, -1, -2, std::numeric_limits<double>::quiet_NaN()}, double relUncert = 0.10000000000000001) =>\n    runtime_error: No POI to scan",
     "output_type": "error",
     "traceback": [
      "\u001b[31m---------------------------------------------------------------------------\u001b[39m",
      "\u001b[31mruntime_error\u001b[39m                             Traceback (most recent call last)",
      "\u001b[36mCell\u001b[39m\u001b[36m \u001b[39m\u001b[32mIn[6]\u001b[39m\u001b[32m, line 1\u001b[39m\n\u001b[32m----> \u001b[39m\u001b[32m1\u001b[39m \u001b[43mw\u001b[49m\u001b[43m[\u001b[49m\u001b[33;43m\"\u001b[39;49m\u001b[33;43mpdfs/simPdf/SR\u001b[39;49m\u001b[33;43m\"\u001b[39;49m\u001b[43m]\u001b[49m\u001b[43m.\u001b[49m\u001b[43mnll\u001b[49m\u001b[43m(\u001b[49m\u001b[33;43m\"\u001b[39;49m\u001b[33;43mobsData\u001b[39;49m\u001b[33;43m\"\u001b[39;49m\u001b[43m)\u001b[49m\u001b[43m.\u001b[49m\u001b[43mhypoSpace\u001b[49m\u001b[43m(\u001b[49m\u001b[43m)\u001b[49m\u001b[43m.\u001b[49m\u001b[43mscan\u001b[49m\u001b[43m(\u001b[49m\u001b[33;43m\"\u001b[39;49m\u001b[33;43mcls\u001b[39;49m\u001b[33;43m\"\u001b[39;49m\u001b[43m)\u001b[49m\n",
      "\u001b[31mruntime_error\u001b[39m: int xRooNLLVar::xRooHypoSpace::scan(const char* type = \"cls\", const vector<double>& nSigmas = {0, 1, 2, -1, -2, std::numeric_limits<double>::quiet_NaN()}, double relUncert = 0.10000000000000001) =>\n    runtime_error: No POI to scan"
     ]
    }
   ],
   "source": [
    "w[\"pdfs/simPdf/SR\"].nll(\"obsData\").hypoSpace().scan(\"cls\")"
   ]
  },
  {
   "cell_type": "code",
   "execution_count": null,
   "id": "dae7b2e4",
   "metadata": {},
   "outputs": [],
   "source": []
  }
 ],
 "metadata": {
  "kernelspec": {
   "display_name": "hep_dev",
   "language": "python",
   "name": "python3"
  },
  "language_info": {
   "codemirror_mode": {
    "name": "ipython",
    "version": 3
   },
   "file_extension": ".py",
   "mimetype": "text/x-python",
   "name": "python",
   "nbconvert_exporter": "python",
   "pygments_lexer": "ipython3",
   "version": "3.13.3"
  }
 },
 "nbformat": 4,
 "nbformat_minor": 5
}
